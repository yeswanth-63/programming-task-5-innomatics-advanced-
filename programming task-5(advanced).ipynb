{
 "cells": [
  {
   "cell_type": "markdown",
   "id": "e8861578",
   "metadata": {},
   "source": [
    "# Q1.Subsets"
   ]
  },
  {
   "cell_type": "code",
   "execution_count": null,
   "id": "d49acdd9",
   "metadata": {},
   "outputs": [],
   "source": [
    "class Solution:\n",
    "    def subsets(self, nums: List[int]) -> List[List[int]]:\n",
    "        n=len(nums)\n",
    "        ans=[]\n",
    "        def solve(idx,lst):\n",
    "            if idx>=n:\n",
    "                ans.append(lst)\n",
    "                return \n",
    "            solve(idx+1,lst)                   \n",
    "            solve(idx+1,lst+[nums[idx]])        \n",
    "        solve(0,[])\n",
    "        return ans"
   ]
  },
  {
   "cell_type": "markdown",
   "id": "6d51e9f1",
   "metadata": {},
   "source": [
    "# Q2.Hamming Distance"
   ]
  },
  {
   "cell_type": "code",
   "execution_count": null,
   "id": "e544a4ff",
   "metadata": {},
   "outputs": [],
   "source": [
    "class Solution:\n",
    "    def find_binary(self,n):\n",
    "        s=\"\"\n",
    "        while n>=1:\n",
    "            if(n%2!=0):\n",
    "                s+=\"1\"\n",
    "            else:\n",
    "                s+=\"0\"\n",
    "            n=n//2\n",
    "        return s[-1::-1]\n",
    "    def hammingDistance(self, x: int, y: int) -> int:\n",
    "        x_b=self.find_binary(x)\n",
    "        y_b=self.find_binary(y)\n",
    "        p=len(x_b)\n",
    "        q=len(y_b)\n",
    "        if p>q:\n",
    "            n=p-q\n",
    "            for i in range(n):\n",
    "                y_b=\"0\"+y_b\n",
    "        if q>p:\n",
    "            n=q-p\n",
    "            for i in range(n):\n",
    "                x_b=\"0\"+x_b\n",
    "        count=0\n",
    "        for i in range(len(x_b)):\n",
    "            if(x_b[i]!=y_b[i]):\n",
    "                count+=1\n",
    "        return count\n",
    "\n"
   ]
  },
  {
   "cell_type": "markdown",
   "id": "5e68b1c5",
   "metadata": {},
   "source": [
    "# Q3.Single Number II"
   ]
  },
  {
   "cell_type": "code",
   "execution_count": null,
   "id": "ed55161e",
   "metadata": {},
   "outputs": [],
   "source": [
    "class Solution:\n",
    "    def singleNumber(self, nums: List[int]) -> int:\n",
    "        d={}\n",
    "        for ele in nums:\n",
    "            if d.get(ele):\n",
    "                d[ele]+=1\n",
    "            else:\n",
    "                d[ele]=1\n",
    "        for ele in d:\n",
    "            if d[ele]==1:\n",
    "                return ele"
   ]
  }
 ],
 "metadata": {
  "kernelspec": {
   "display_name": "Python 3 (ipykernel)",
   "language": "python",
   "name": "python3"
  },
  "language_info": {
   "codemirror_mode": {
    "name": "ipython",
    "version": 3
   },
   "file_extension": ".py",
   "mimetype": "text/x-python",
   "name": "python",
   "nbconvert_exporter": "python",
   "pygments_lexer": "ipython3",
   "version": "3.9.13"
  }
 },
 "nbformat": 4,
 "nbformat_minor": 5
}
